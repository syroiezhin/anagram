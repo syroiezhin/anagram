{
 "cells": [
  {
   "cell_type": "markdown",
   "metadata": {},
   "source": [
    "        __  ______ _       ________  __        _ \n",
    "       / / / / __ \\ |     / / __ \\ \\/ /  _    | |\n",
    "      / /_/ / / / / | /| / / / / /\\  /  (_)   / /\n",
    "     / __  / /_/ /| |/ |/ / /_/ / / /  _     / / \n",
    "    /_/ /_/\\____/ |__/|__/_____/ /_/  (_)  _/_/  \n",
    "                                          /_/    \n",
    "                                                      \n",
    "               5168 7450 1701 5535     \n",
    "\n",
    "                 author = Valerij Syroiezhin\n",
    "               telegram = @NEU3RON\n",
    "                  email = v.syroiezhin@gmail.com\n",
    "                    url = https://github.com/syroiezhin"
   ]
  },
  {
   "cell_type": "markdown",
   "metadata": {},
   "source": [
    "#### I was asked to solve this problem, which says that you need to check whether two entered words are anagrams."
   ]
  },
  {
   "cell_type": "code",
   "execution_count": 48,
   "metadata": {},
   "outputs": [],
   "source": [
    "#------------------------------------------------------------#\n",
    "#  The shortest solution that I could come up with is to use #\n",
    "#     sorting the characters of a string alphabetically,     #\n",
    "#    which allows you to quickly check for the presence of   #\n",
    "# identical characters and their number in each of the words #\n",
    "#------------------------------------------------------------#\n",
    "def sort(a,b): return sorted(a) == sorted(b)\n",
    "#=================================================#\n",
    "#    Despite the fact that my first solution is   #\n",
    "#        already perfect, I would not be me       #\n",
    "#  if I had not found other interesting solutions #\n",
    "# I remembered having a dictionary that can sort, #\n",
    "#         so this is also a good solution         #\n",
    "#=================================================#\n",
    "def dictionary(a,b): return { i:(a).count(i) for i in set(a) } == { j:(b).count(j) for j in set(b) }\n",
    "#≡≡≡≡≡≡≡≡≡≡≡≡≡≡≡≡≡≡≡≡≡≡≡≡≡≡≡≡≡≡≡≡≡≡≡≡≡≡≡≡≡≡≡≡≡≡≡≡≡≡≡≡≡≡≡≡≡≡≡≡≡≡≡≡≡≡≡≡#\n",
    "# But I did not stop there, and implemented the solution by removing #\n",
    "#      (replacing) all matching characters in each of the words      #\n",
    "#≡≡≡≡≡≡≡≡≡≡≡≡≡≡≡≡≡≡≡≡≡≡≡≡≡≡≡≡≡≡≡≡≡≡≡≡≡≡≡≡≡≡≡≡≡≡≡≡≡≡≡≡≡≡≡≡≡≡≡≡≡≡≡≡≡≡≡≡#\n",
    "def replacement(a,b): return [ (a:=a.replace(s,'',1), b:=b.replace(s,'',1)) for i in a if (s:=a[0]) in b ][-1] == ('','')"
   ]
  },
  {
   "cell_type": "markdown",
   "metadata": {},
   "source": [
    "#### Block of code to run and test previously written functions"
   ]
  },
  {
   "cell_type": "code",
   "execution_count": 52,
   "metadata": {},
   "outputs": [
    {
     "name": "stdout",
     "output_type": "stream",
     "text": [
      "The entered values (dcbabcddcd & abbcccdddd) are an anagram\n",
      "The entered values (dcbabcddcd & abbcccdddd) are an anagram\n",
      "The entered values (dcbabcddcd & abbcccdddd) are an anagram\n"
     ]
    }
   ],
   "source": [
    "if __name__ == \"__main__\": \n",
    "    a = input('Enter any set of letters:')\n",
    "    b = input('Enter another word using the same character set:')\n",
    "\n",
    "    for compare in [sort, dictionary, replacement]:\n",
    "        if compare(a.lower(), b.lower()) == True: print( f'The entered values ({a} & {b}) are an anagram' )\n",
    "        else: print( f'The entered values ({a} & {b}) are not an anagram' )"
   ]
  }
 ],
 "metadata": {
  "kernelspec": {
   "display_name": "Python 3.10.6 64-bit",
   "language": "python",
   "name": "python3"
  },
  "language_info": {
   "codemirror_mode": {
    "name": "ipython",
    "version": 3
   },
   "file_extension": ".py",
   "mimetype": "text/x-python",
   "name": "python",
   "nbconvert_exporter": "python",
   "pygments_lexer": "ipython3",
   "version": "3.10.6"
  },
  "orig_nbformat": 4,
  "vscode": {
   "interpreter": {
    "hash": "aee8b7b246df8f9039afb4144a1f6fd8d2ca17a180786b69acc140d282b71a49"
   }
  }
 },
 "nbformat": 4,
 "nbformat_minor": 2
}
